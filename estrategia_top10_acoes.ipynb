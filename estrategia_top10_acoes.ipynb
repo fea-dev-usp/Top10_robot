{
 "cells": [
  {
   "cell_type": "markdown",
   "metadata": {},
   "source": [
    "# Bibliotecas"
   ]
  },
  {
   "cell_type": "code",
   "execution_count": 97,
   "metadata": {},
   "outputs": [],
   "source": [
    "import pandas as pd"
   ]
  },
  {
   "cell_type": "markdown",
   "metadata": {},
   "source": [
    "# Modelagem de dados\n",
    "\n"
   ]
  },
  {
   "cell_type": "markdown",
   "metadata": {},
   "source": [
    "- Abrir e organizar os dados das ações do Ibx, armazenados em um arquivo csv"
   ]
  },
  {
   "cell_type": "code",
   "execution_count": 98,
   "metadata": {},
   "outputs": [
    {
     "data": {
      "text/html": [
       "<div>\n",
       "<style scoped>\n",
       "    .dataframe tbody tr th:only-of-type {\n",
       "        vertical-align: middle;\n",
       "    }\n",
       "\n",
       "    .dataframe tbody tr th {\n",
       "        vertical-align: top;\n",
       "    }\n",
       "\n",
       "    .dataframe thead th {\n",
       "        text-align: right;\n",
       "    }\n",
       "</style>\n",
       "<table border=\"1\" class=\"dataframe\">\n",
       "  <thead>\n",
       "    <tr style=\"text-align: right;\">\n",
       "      <th></th>\n",
       "      <th>ABEV3</th>\n",
       "      <th>AEDU3</th>\n",
       "      <th>ALLL3</th>\n",
       "      <th>ALPA4</th>\n",
       "      <th>ALSC3</th>\n",
       "      <th>ALUP11</th>\n",
       "      <th>AMBV3</th>\n",
       "      <th>AMIL3</th>\n",
       "      <th>ANIM3</th>\n",
       "      <th>ARTR3</th>\n",
       "      <th>...</th>\n",
       "      <th>VALE5</th>\n",
       "      <th>VIVO4</th>\n",
       "      <th>VIVR3</th>\n",
       "      <th>VIVT4</th>\n",
       "      <th>VLID3</th>\n",
       "      <th>VVAR11</th>\n",
       "      <th>VVAR3</th>\n",
       "      <th>WEGE3</th>\n",
       "      <th>WIZS3</th>\n",
       "      <th>YDUQ3</th>\n",
       "    </tr>\n",
       "    <tr>\n",
       "      <th>date</th>\n",
       "      <th></th>\n",
       "      <th></th>\n",
       "      <th></th>\n",
       "      <th></th>\n",
       "      <th></th>\n",
       "      <th></th>\n",
       "      <th></th>\n",
       "      <th></th>\n",
       "      <th></th>\n",
       "      <th></th>\n",
       "      <th></th>\n",
       "      <th></th>\n",
       "      <th></th>\n",
       "      <th></th>\n",
       "      <th></th>\n",
       "      <th></th>\n",
       "      <th></th>\n",
       "      <th></th>\n",
       "      <th></th>\n",
       "      <th></th>\n",
       "      <th></th>\n",
       "    </tr>\n",
       "  </thead>\n",
       "  <tbody>\n",
       "    <tr>\n",
       "      <th>2009-12-31</th>\n",
       "      <td>4.970</td>\n",
       "      <td>NaN</td>\n",
       "      <td>15.892</td>\n",
       "      <td>2.500</td>\n",
       "      <td>NaN</td>\n",
       "      <td>NaN</td>\n",
       "      <td>25.692</td>\n",
       "      <td>13.459</td>\n",
       "      <td>NaN</td>\n",
       "      <td>5.782</td>\n",
       "      <td>...</td>\n",
       "      <td>28.902</td>\n",
       "      <td>47.556</td>\n",
       "      <td>2820.680</td>\n",
       "      <td>19.188</td>\n",
       "      <td>10.608</td>\n",
       "      <td>NaN</td>\n",
       "      <td>3.532</td>\n",
       "      <td>4.277</td>\n",
       "      <td>NaN</td>\n",
       "      <td>5.984</td>\n",
       "    </tr>\n",
       "    <tr>\n",
       "      <th>2010-01-29</th>\n",
       "      <td>4.928</td>\n",
       "      <td>NaN</td>\n",
       "      <td>14.722</td>\n",
       "      <td>2.645</td>\n",
       "      <td>7.588</td>\n",
       "      <td>NaN</td>\n",
       "      <td>26.127</td>\n",
       "      <td>13.066</td>\n",
       "      <td>NaN</td>\n",
       "      <td>6.037</td>\n",
       "      <td>...</td>\n",
       "      <td>28.861</td>\n",
       "      <td>46.916</td>\n",
       "      <td>2853.101</td>\n",
       "      <td>18.502</td>\n",
       "      <td>10.755</td>\n",
       "      <td>NaN</td>\n",
       "      <td>3.051</td>\n",
       "      <td>4.196</td>\n",
       "      <td>NaN</td>\n",
       "      <td>5.432</td>\n",
       "    </tr>\n",
       "    <tr>\n",
       "      <th>2010-02-26</th>\n",
       "      <td>4.957</td>\n",
       "      <td>NaN</td>\n",
       "      <td>15.717</td>\n",
       "      <td>2.819</td>\n",
       "      <td>8.722</td>\n",
       "      <td>NaN</td>\n",
       "      <td>25.976</td>\n",
       "      <td>13.115</td>\n",
       "      <td>NaN</td>\n",
       "      <td>6.450</td>\n",
       "      <td>...</td>\n",
       "      <td>30.443</td>\n",
       "      <td>43.065</td>\n",
       "      <td>2512.674</td>\n",
       "      <td>17.532</td>\n",
       "      <td>9.993</td>\n",
       "      <td>NaN</td>\n",
       "      <td>2.523</td>\n",
       "      <td>4.152</td>\n",
       "      <td>NaN</td>\n",
       "      <td>5.429</td>\n",
       "    </tr>\n",
       "    <tr>\n",
       "      <th>2010-03-31</th>\n",
       "      <td>4.689</td>\n",
       "      <td>NaN</td>\n",
       "      <td>15.892</td>\n",
       "      <td>2.774</td>\n",
       "      <td>8.955</td>\n",
       "      <td>NaN</td>\n",
       "      <td>24.297</td>\n",
       "      <td>13.668</td>\n",
       "      <td>NaN</td>\n",
       "      <td>6.972</td>\n",
       "      <td>...</td>\n",
       "      <td>33.935</td>\n",
       "      <td>43.986</td>\n",
       "      <td>2585.623</td>\n",
       "      <td>17.136</td>\n",
       "      <td>9.562</td>\n",
       "      <td>NaN</td>\n",
       "      <td>3.071</td>\n",
       "      <td>4.480</td>\n",
       "      <td>NaN</td>\n",
       "      <td>5.212</td>\n",
       "    </tr>\n",
       "    <tr>\n",
       "      <th>2010-04-30</th>\n",
       "      <td>4.875</td>\n",
       "      <td>NaN</td>\n",
       "      <td>15.424</td>\n",
       "      <td>2.700</td>\n",
       "      <td>8.306</td>\n",
       "      <td>NaN</td>\n",
       "      <td>25.897</td>\n",
       "      <td>14.063</td>\n",
       "      <td>NaN</td>\n",
       "      <td>6.971</td>\n",
       "      <td>...</td>\n",
       "      <td>32.131</td>\n",
       "      <td>42.073</td>\n",
       "      <td>2293.829</td>\n",
       "      <td>16.164</td>\n",
       "      <td>9.483</td>\n",
       "      <td>NaN</td>\n",
       "      <td>2.913</td>\n",
       "      <td>4.185</td>\n",
       "      <td>NaN</td>\n",
       "      <td>4.915</td>\n",
       "    </tr>\n",
       "  </tbody>\n",
       "</table>\n",
       "<p>5 rows × 175 columns</p>\n",
       "</div>"
      ],
      "text/plain": [
       "            ABEV3  AEDU3   ALLL3  ALPA4  ALSC3  ALUP11   AMBV3   AMIL3  ANIM3  \\\n",
       "date                                                                            \n",
       "2009-12-31  4.970    NaN  15.892  2.500    NaN     NaN  25.692  13.459    NaN   \n",
       "2010-01-29  4.928    NaN  14.722  2.645  7.588     NaN  26.127  13.066    NaN   \n",
       "2010-02-26  4.957    NaN  15.717  2.819  8.722     NaN  25.976  13.115    NaN   \n",
       "2010-03-31  4.689    NaN  15.892  2.774  8.955     NaN  24.297  13.668    NaN   \n",
       "2010-04-30  4.875    NaN  15.424  2.700  8.306     NaN  25.897  14.063    NaN   \n",
       "\n",
       "            ARTR3  ...   VALE5   VIVO4     VIVR3   VIVT4   VLID3  VVAR11  \\\n",
       "date               ...                                                     \n",
       "2009-12-31  5.782  ...  28.902  47.556  2820.680  19.188  10.608     NaN   \n",
       "2010-01-29  6.037  ...  28.861  46.916  2853.101  18.502  10.755     NaN   \n",
       "2010-02-26  6.450  ...  30.443  43.065  2512.674  17.532   9.993     NaN   \n",
       "2010-03-31  6.972  ...  33.935  43.986  2585.623  17.136   9.562     NaN   \n",
       "2010-04-30  6.971  ...  32.131  42.073  2293.829  16.164   9.483     NaN   \n",
       "\n",
       "            VVAR3  WEGE3  WIZS3  YDUQ3  \n",
       "date                                    \n",
       "2009-12-31  3.532  4.277    NaN  5.984  \n",
       "2010-01-29  3.051  4.196    NaN  5.432  \n",
       "2010-02-26  2.523  4.152    NaN  5.429  \n",
       "2010-03-31  3.071  4.480    NaN  5.212  \n",
       "2010-04-30  2.913  4.185    NaN  4.915  \n",
       "\n",
       "[5 rows x 175 columns]"
      ]
     },
     "execution_count": 98,
     "metadata": {},
     "output_type": "execute_result"
    }
   ],
   "source": [
    "#atribui a variavel ibx_precos o arquivo csv \"precos_ibx.csv\"\n",
    "ibx_precos = pd.read_csv(\"precos_ibx.csv\", index_col = 0)\n",
    "#mostra as cinco primeiras linhas do arquivo\n",
    "ibx_precos.head()"
   ]
  },
  {
   "cell_type": "code",
   "execution_count": 99,
   "metadata": {},
   "outputs": [],
   "source": [
    "#formata o indice para um estrutura de data no qual soh aparece ano e mes\n",
    "ibx_precos.index = pd.to_datetime(ibx_precos.index, format='%Y-%m-%d').to_period(\"M\")\n"
   ]
  },
  {
   "cell_type": "code",
   "execution_count": 100,
   "metadata": {},
   "outputs": [],
   "source": [
    "#atribui a variavel \"retornos\" aos retornos calculados pelos precos de ibx_precos e filtra apenas dados a partir de 2010-12\n",
    "retornos = ibx_precos['2010-11':].pct_change().iloc[1:]"
   ]
  },
  {
   "cell_type": "markdown",
   "metadata": {},
   "source": [
    "# Estratégia adotada"
   ]
  },
  {
   "cell_type": "markdown",
   "metadata": {},
   "source": [
    "A estratégia de investimento é ver quais são as \"n\" ações que melhor performaram no período de um mês, no nosso caso são as 10 melhores, para que no mês seguinte, os recurosos financeiros sejam alocandos exatamente na compra delas."
   ]
  },
  {
   "cell_type": "code",
   "execution_count": 101,
   "metadata": {},
   "outputs": [],
   "source": [
    "def estrategia(ativos, quantidade, comp):\n",
    "    \"\"\"\n",
    "    recebe um DataFrame com os retornos de algumas acoes e\n",
    "    devolve um novo apenas com os retornos das melhores, em ordem decrescente, no período t+1 de cada uma\n",
    "    :ativos:DataFrame contendo os retornos de acoes a serem compradas\n",
    "    :quantidade:quantidade das \"n\" primeiras acoes a serem selecionadas, em cada periodo\n",
    "    :comp:DataFrame com os tickers das acoes que compunham o IBX em cada mes do periodo analisado\n",
    "    \"\"\"\n",
    "    #DataFrame vazio\n",
    "    retornos_top10 = pd.DataFrame()\n",
    "    for linha in range(len(ativos)-1):\n",
    "        #variavel datas recebe como string o indice da linha indicada\n",
    "        datas = str(ativos.index[linha])\n",
    "        #a variavel juncao eh responsavel por filtrar as acoes do DataFrame ativos, segundo a composicao de cada periodo mostrado no DataFrame comp\n",
    "        juncao = ativos[comp.iloc[linha].dropna().to_numpy()]\n",
    "        #DataFrame com os valores organizados em ordem decrescente, analizando o periodo determinado pela variavel datas \n",
    "        ordenados = juncao.sort_values(by = datas, axis = 1, ascending = False)\n",
    "        #transposicao dos valores para faciliatr captar com a funcao head() apenas a quantidade de elementos determinada pela \"quantidade\"\n",
    "        invertido = ordenados.T.head(quantidade)\n",
    "        #troca-se o indice com o nome das acoes por numeros, para que seja possivel a juncao dos dados em cada loop do for\n",
    "        invertido.index = range(quantidade)\n",
    "        #acrecenta ao DataFrame, criado incialmente, a performance das acoes do periodo datas+1\n",
    "        retornos_top10[str(comp.index[linha+1])] = invertido[str(comp.index[linha+1])]\n",
    "    return retornos_top10\n",
    "    "
   ]
  },
  {
   "cell_type": "code",
   "execution_count": 102,
   "metadata": {},
   "outputs": [],
   "source": [
    "#DataFrame com a composicao do IBX\n",
    "comp_ibx = pd.read_csv(\"composicao_ibx_mensal.csv\", index_col = 0)"
   ]
  },
  {
   "cell_type": "code",
   "execution_count": 103,
   "metadata": {},
   "outputs": [],
   "source": [
    "portfolio = estrategia(retornos, 10, comp_ibx)"
   ]
  },
  {
   "cell_type": "code",
   "execution_count": 104,
   "metadata": {},
   "outputs": [
    {
     "data": {
      "text/html": [
       "<div>\n",
       "<style scoped>\n",
       "    .dataframe tbody tr th:only-of-type {\n",
       "        vertical-align: middle;\n",
       "    }\n",
       "\n",
       "    .dataframe tbody tr th {\n",
       "        vertical-align: top;\n",
       "    }\n",
       "\n",
       "    .dataframe thead th {\n",
       "        text-align: right;\n",
       "    }\n",
       "</style>\n",
       "<table border=\"1\" class=\"dataframe\">\n",
       "  <thead>\n",
       "    <tr style=\"text-align: right;\">\n",
       "      <th></th>\n",
       "      <th>2011-01</th>\n",
       "      <th>2011-02</th>\n",
       "      <th>2011-03</th>\n",
       "      <th>2011-04</th>\n",
       "      <th>2011-05</th>\n",
       "      <th>2011-06</th>\n",
       "      <th>2011-07</th>\n",
       "      <th>2011-08</th>\n",
       "      <th>2011-09</th>\n",
       "      <th>2011-10</th>\n",
       "      <th>...</th>\n",
       "      <th>2019-03</th>\n",
       "      <th>2019-04</th>\n",
       "      <th>2019-05</th>\n",
       "      <th>2019-06</th>\n",
       "      <th>2019-07</th>\n",
       "      <th>2019-08</th>\n",
       "      <th>2019-09</th>\n",
       "      <th>2019-10</th>\n",
       "      <th>2019-11</th>\n",
       "      <th>2019-12</th>\n",
       "    </tr>\n",
       "  </thead>\n",
       "  <tbody>\n",
       "    <tr>\n",
       "      <th>0</th>\n",
       "      <td>-0.029487</td>\n",
       "      <td>0.073233</td>\n",
       "      <td>0.115922</td>\n",
       "      <td>0.140565</td>\n",
       "      <td>0.058705</td>\n",
       "      <td>-0.010539</td>\n",
       "      <td>0.011012</td>\n",
       "      <td>-0.054055</td>\n",
       "      <td>0.025241</td>\n",
       "      <td>0.008499</td>\n",
       "      <td>...</td>\n",
       "      <td>0.242375</td>\n",
       "      <td>-0.126436</td>\n",
       "      <td>-0.107890</td>\n",
       "      <td>0.072048</td>\n",
       "      <td>0.033618</td>\n",
       "      <td>0.001295</td>\n",
       "      <td>0.087789</td>\n",
       "      <td>-0.024501</td>\n",
       "      <td>0.008721</td>\n",
       "      <td>-0.126531</td>\n",
       "    </tr>\n",
       "    <tr>\n",
       "      <th>1</th>\n",
       "      <td>-0.124724</td>\n",
       "      <td>0.036303</td>\n",
       "      <td>-0.002584</td>\n",
       "      <td>0.029332</td>\n",
       "      <td>0.031021</td>\n",
       "      <td>-0.031890</td>\n",
       "      <td>-0.078996</td>\n",
       "      <td>0.055582</td>\n",
       "      <td>0.045216</td>\n",
       "      <td>0.101669</td>\n",
       "      <td>...</td>\n",
       "      <td>0.157362</td>\n",
       "      <td>-0.105267</td>\n",
       "      <td>0.105843</td>\n",
       "      <td>0.010321</td>\n",
       "      <td>0.256748</td>\n",
       "      <td>0.189030</td>\n",
       "      <td>-0.032619</td>\n",
       "      <td>-0.030015</td>\n",
       "      <td>0.047922</td>\n",
       "      <td>0.176488</td>\n",
       "    </tr>\n",
       "    <tr>\n",
       "      <th>2</th>\n",
       "      <td>-0.042034</td>\n",
       "      <td>-0.003582</td>\n",
       "      <td>0.107941</td>\n",
       "      <td>0.022962</td>\n",
       "      <td>-0.116466</td>\n",
       "      <td>-0.087734</td>\n",
       "      <td>-0.009961</td>\n",
       "      <td>-0.051072</td>\n",
       "      <td>-0.281340</td>\n",
       "      <td>-0.109380</td>\n",
       "      <td>...</td>\n",
       "      <td>0.080897</td>\n",
       "      <td>0.241869</td>\n",
       "      <td>-0.066940</td>\n",
       "      <td>0.162457</td>\n",
       "      <td>0.212702</td>\n",
       "      <td>-0.189651</td>\n",
       "      <td>0.319760</td>\n",
       "      <td>0.056180</td>\n",
       "      <td>0.027182</td>\n",
       "      <td>0.189846</td>\n",
       "    </tr>\n",
       "    <tr>\n",
       "      <th>3</th>\n",
       "      <td>-0.058265</td>\n",
       "      <td>0.024223</td>\n",
       "      <td>0.010283</td>\n",
       "      <td>-0.030423</td>\n",
       "      <td>-0.027472</td>\n",
       "      <td>-0.053545</td>\n",
       "      <td>0.023812</td>\n",
       "      <td>-0.060392</td>\n",
       "      <td>-0.082558</td>\n",
       "      <td>0.233839</td>\n",
       "      <td>...</td>\n",
       "      <td>-0.028507</td>\n",
       "      <td>-0.003697</td>\n",
       "      <td>-0.023810</td>\n",
       "      <td>0.208302</td>\n",
       "      <td>0.060242</td>\n",
       "      <td>0.100861</td>\n",
       "      <td>0.028723</td>\n",
       "      <td>-0.124221</td>\n",
       "      <td>0.153598</td>\n",
       "      <td>0.140671</td>\n",
       "    </tr>\n",
       "    <tr>\n",
       "      <th>4</th>\n",
       "      <td>0.028279</td>\n",
       "      <td>0.021298</td>\n",
       "      <td>0.011903</td>\n",
       "      <td>-0.001502</td>\n",
       "      <td>-0.030437</td>\n",
       "      <td>0.003376</td>\n",
       "      <td>-0.053133</td>\n",
       "      <td>0.027866</td>\n",
       "      <td>-0.337295</td>\n",
       "      <td>0.018732</td>\n",
       "      <td>...</td>\n",
       "      <td>-0.006264</td>\n",
       "      <td>0.000000</td>\n",
       "      <td>0.148189</td>\n",
       "      <td>0.021696</td>\n",
       "      <td>0.278205</td>\n",
       "      <td>0.032392</td>\n",
       "      <td>0.041377</td>\n",
       "      <td>0.087880</td>\n",
       "      <td>0.051938</td>\n",
       "      <td>0.267877</td>\n",
       "    </tr>\n",
       "    <tr>\n",
       "      <th>5</th>\n",
       "      <td>-0.048861</td>\n",
       "      <td>-0.023728</td>\n",
       "      <td>0.112916</td>\n",
       "      <td>-0.021200</td>\n",
       "      <td>0.097484</td>\n",
       "      <td>-0.097529</td>\n",
       "      <td>-0.012987</td>\n",
       "      <td>-0.179774</td>\n",
       "      <td>-0.084087</td>\n",
       "      <td>-0.034410</td>\n",
       "      <td>...</td>\n",
       "      <td>-0.019684</td>\n",
       "      <td>0.194879</td>\n",
       "      <td>-0.059367</td>\n",
       "      <td>0.139960</td>\n",
       "      <td>0.036270</td>\n",
       "      <td>-0.090382</td>\n",
       "      <td>-0.071499</td>\n",
       "      <td>-0.024823</td>\n",
       "      <td>-0.069399</td>\n",
       "      <td>0.157316</td>\n",
       "    </tr>\n",
       "    <tr>\n",
       "      <th>6</th>\n",
       "      <td>-0.028031</td>\n",
       "      <td>-0.030882</td>\n",
       "      <td>0.005420</td>\n",
       "      <td>-0.023114</td>\n",
       "      <td>0.063830</td>\n",
       "      <td>-0.022470</td>\n",
       "      <td>-0.063774</td>\n",
       "      <td>-0.036946</td>\n",
       "      <td>-0.125000</td>\n",
       "      <td>0.037360</td>\n",
       "      <td>...</td>\n",
       "      <td>0.036961</td>\n",
       "      <td>0.370861</td>\n",
       "      <td>0.129275</td>\n",
       "      <td>-0.016594</td>\n",
       "      <td>0.046576</td>\n",
       "      <td>-0.082786</td>\n",
       "      <td>0.106282</td>\n",
       "      <td>0.020594</td>\n",
       "      <td>0.136152</td>\n",
       "      <td>0.029046</td>\n",
       "    </tr>\n",
       "    <tr>\n",
       "      <th>7</th>\n",
       "      <td>-0.016381</td>\n",
       "      <td>0.066060</td>\n",
       "      <td>0.070646</td>\n",
       "      <td>0.008346</td>\n",
       "      <td>0.045002</td>\n",
       "      <td>-0.009464</td>\n",
       "      <td>-0.096982</td>\n",
       "      <td>-0.063724</td>\n",
       "      <td>-0.090909</td>\n",
       "      <td>0.085955</td>\n",
       "      <td>...</td>\n",
       "      <td>0.001666</td>\n",
       "      <td>0.224080</td>\n",
       "      <td>0.165043</td>\n",
       "      <td>0.137421</td>\n",
       "      <td>-0.004197</td>\n",
       "      <td>-0.008837</td>\n",
       "      <td>-0.073226</td>\n",
       "      <td>0.014264</td>\n",
       "      <td>-0.003312</td>\n",
       "      <td>0.117542</td>\n",
       "    </tr>\n",
       "    <tr>\n",
       "      <th>8</th>\n",
       "      <td>0.029452</td>\n",
       "      <td>-0.027260</td>\n",
       "      <td>0.005519</td>\n",
       "      <td>0.032457</td>\n",
       "      <td>0.007204</td>\n",
       "      <td>0.004645</td>\n",
       "      <td>-0.100466</td>\n",
       "      <td>-0.014540</td>\n",
       "      <td>-0.100486</td>\n",
       "      <td>0.051308</td>\n",
       "      <td>...</td>\n",
       "      <td>0.000926</td>\n",
       "      <td>-0.016285</td>\n",
       "      <td>0.171505</td>\n",
       "      <td>0.012486</td>\n",
       "      <td>0.094796</td>\n",
       "      <td>0.190369</td>\n",
       "      <td>-0.105005</td>\n",
       "      <td>0.017212</td>\n",
       "      <td>0.081427</td>\n",
       "      <td>0.369668</td>\n",
       "    </tr>\n",
       "    <tr>\n",
       "      <th>9</th>\n",
       "      <td>-0.007331</td>\n",
       "      <td>-0.055556</td>\n",
       "      <td>0.048784</td>\n",
       "      <td>0.060979</td>\n",
       "      <td>0.055338</td>\n",
       "      <td>0.327150</td>\n",
       "      <td>-0.203840</td>\n",
       "      <td>-0.253873</td>\n",
       "      <td>-0.231175</td>\n",
       "      <td>0.126920</td>\n",
       "      <td>...</td>\n",
       "      <td>0.101881</td>\n",
       "      <td>0.130705</td>\n",
       "      <td>0.088353</td>\n",
       "      <td>0.104337</td>\n",
       "      <td>-0.013411</td>\n",
       "      <td>0.253333</td>\n",
       "      <td>-0.126037</td>\n",
       "      <td>-0.135034</td>\n",
       "      <td>-0.013643</td>\n",
       "      <td>0.168269</td>\n",
       "    </tr>\n",
       "  </tbody>\n",
       "</table>\n",
       "<p>10 rows × 108 columns</p>\n",
       "</div>"
      ],
      "text/plain": [
       "    2011-01   2011-02   2011-03   2011-04   2011-05   2011-06   2011-07  \\\n",
       "0 -0.029487  0.073233  0.115922  0.140565  0.058705 -0.010539  0.011012   \n",
       "1 -0.124724  0.036303 -0.002584  0.029332  0.031021 -0.031890 -0.078996   \n",
       "2 -0.042034 -0.003582  0.107941  0.022962 -0.116466 -0.087734 -0.009961   \n",
       "3 -0.058265  0.024223  0.010283 -0.030423 -0.027472 -0.053545  0.023812   \n",
       "4  0.028279  0.021298  0.011903 -0.001502 -0.030437  0.003376 -0.053133   \n",
       "5 -0.048861 -0.023728  0.112916 -0.021200  0.097484 -0.097529 -0.012987   \n",
       "6 -0.028031 -0.030882  0.005420 -0.023114  0.063830 -0.022470 -0.063774   \n",
       "7 -0.016381  0.066060  0.070646  0.008346  0.045002 -0.009464 -0.096982   \n",
       "8  0.029452 -0.027260  0.005519  0.032457  0.007204  0.004645 -0.100466   \n",
       "9 -0.007331 -0.055556  0.048784  0.060979  0.055338  0.327150 -0.203840   \n",
       "\n",
       "    2011-08   2011-09   2011-10  ...   2019-03   2019-04   2019-05   2019-06  \\\n",
       "0 -0.054055  0.025241  0.008499  ...  0.242375 -0.126436 -0.107890  0.072048   \n",
       "1  0.055582  0.045216  0.101669  ...  0.157362 -0.105267  0.105843  0.010321   \n",
       "2 -0.051072 -0.281340 -0.109380  ...  0.080897  0.241869 -0.066940  0.162457   \n",
       "3 -0.060392 -0.082558  0.233839  ... -0.028507 -0.003697 -0.023810  0.208302   \n",
       "4  0.027866 -0.337295  0.018732  ... -0.006264  0.000000  0.148189  0.021696   \n",
       "5 -0.179774 -0.084087 -0.034410  ... -0.019684  0.194879 -0.059367  0.139960   \n",
       "6 -0.036946 -0.125000  0.037360  ...  0.036961  0.370861  0.129275 -0.016594   \n",
       "7 -0.063724 -0.090909  0.085955  ...  0.001666  0.224080  0.165043  0.137421   \n",
       "8 -0.014540 -0.100486  0.051308  ...  0.000926 -0.016285  0.171505  0.012486   \n",
       "9 -0.253873 -0.231175  0.126920  ...  0.101881  0.130705  0.088353  0.104337   \n",
       "\n",
       "    2019-07   2019-08   2019-09   2019-10   2019-11   2019-12  \n",
       "0  0.033618  0.001295  0.087789 -0.024501  0.008721 -0.126531  \n",
       "1  0.256748  0.189030 -0.032619 -0.030015  0.047922  0.176488  \n",
       "2  0.212702 -0.189651  0.319760  0.056180  0.027182  0.189846  \n",
       "3  0.060242  0.100861  0.028723 -0.124221  0.153598  0.140671  \n",
       "4  0.278205  0.032392  0.041377  0.087880  0.051938  0.267877  \n",
       "5  0.036270 -0.090382 -0.071499 -0.024823 -0.069399  0.157316  \n",
       "6  0.046576 -0.082786  0.106282  0.020594  0.136152  0.029046  \n",
       "7 -0.004197 -0.008837 -0.073226  0.014264 -0.003312  0.117542  \n",
       "8  0.094796  0.190369 -0.105005  0.017212  0.081427  0.369668  \n",
       "9 -0.013411  0.253333 -0.126037 -0.135034 -0.013643  0.168269  \n",
       "\n",
       "[10 rows x 108 columns]"
      ]
     },
     "execution_count": 104,
     "metadata": {},
     "output_type": "execute_result"
    }
   ],
   "source": [
    "portfolio"
   ]
  },
  {
   "cell_type": "markdown",
   "metadata": {},
   "source": [
    "# Alocação de Portfólio e Estratégia de Retorno"
   ]
  },
  {
   "cell_type": "markdown",
   "metadata": {},
   "source": [
    "Realizaremos uma alocação de portfolio adotando pesos iguais para as ações e calcularemos os retornos e os montantes dos períodos."
   ]
  },
  {
   "cell_type": "code",
   "execution_count": 105,
   "metadata": {},
   "outputs": [],
   "source": [
    "def retornos_portfolio(inicial, portfolio):\n",
    "    \"\"\"\n",
    "    recebe um DataFrame com os retornos das acoes e devolve um\n",
    "    novo contendo o montante e o retorno, ao longo de um periodo\n",
    "    a alocacao de portfólio eh feita utiizando-se o criterio de pesos iguais\n",
    "    :incial:investimento inicial\n",
    "    :portfolio:DataFrame com os retornos das acoes\n",
    "    \"\"\"\n",
    "    #determina o peso que sera aplicado nas acoes, seguindo o criterio de pesos iguais no portfolio \n",
    "    peso = 1/len(portfolio)\n",
    "    #aplica o peso e depois soma-se todas acoes entre si, levando em consideracao as linhas\n",
    "    portfolio_novo = (portfolio*peso).sum(axis=0)\n",
    "    #calculo da evolucao do montante por periodo\n",
    "    montante_indice = inicial*(1+portfolio_novo).cumprod()\n",
    "    return pd.DataFrame({\n",
    "        'Montante': montante_indice,\n",
    "        'Retornos' : portfolio_novo\n",
    "    }, index=portfolio.columns)"
   ]
  },
  {
   "cell_type": "code",
   "execution_count": 126,
   "metadata": {},
   "outputs": [
    {
     "data": {
      "text/html": [
       "<div>\n",
       "<style scoped>\n",
       "    .dataframe tbody tr th:only-of-type {\n",
       "        vertical-align: middle;\n",
       "    }\n",
       "\n",
       "    .dataframe tbody tr th {\n",
       "        vertical-align: top;\n",
       "    }\n",
       "\n",
       "    .dataframe thead th {\n",
       "        text-align: right;\n",
       "    }\n",
       "</style>\n",
       "<table border=\"1\" class=\"dataframe\">\n",
       "  <thead>\n",
       "    <tr style=\"text-align: right;\">\n",
       "      <th></th>\n",
       "      <th>Montante</th>\n",
       "      <th>Retornos</th>\n",
       "    </tr>\n",
       "  </thead>\n",
       "  <tbody>\n",
       "    <tr>\n",
       "      <th>2019-08</th>\n",
       "      <td>296.156653</td>\n",
       "      <td>0.039562</td>\n",
       "    </tr>\n",
       "    <tr>\n",
       "      <th>2019-09</th>\n",
       "      <td>301.355554</td>\n",
       "      <td>0.017555</td>\n",
       "    </tr>\n",
       "    <tr>\n",
       "      <th>2019-10</th>\n",
       "      <td>297.062326</td>\n",
       "      <td>-0.014246</td>\n",
       "    </tr>\n",
       "    <tr>\n",
       "      <th>2019-11</th>\n",
       "      <td>309.556326</td>\n",
       "      <td>0.042059</td>\n",
       "    </tr>\n",
       "    <tr>\n",
       "      <th>2019-12</th>\n",
       "      <td>355.686167</td>\n",
       "      <td>0.149019</td>\n",
       "    </tr>\n",
       "  </tbody>\n",
       "</table>\n",
       "</div>"
      ],
      "text/plain": [
       "           Montante  Retornos\n",
       "2019-08  296.156653  0.039562\n",
       "2019-09  301.355554  0.017555\n",
       "2019-10  297.062326 -0.014246\n",
       "2019-11  309.556326  0.042059\n",
       "2019-12  355.686167  0.149019"
      ]
     },
     "execution_count": 126,
     "metadata": {},
     "output_type": "execute_result"
    }
   ],
   "source": [
    "retornos_portfolio(100, portfolio).tail()"
   ]
  },
  {
   "cell_type": "markdown",
   "metadata": {},
   "source": [
    "# Análise de Risco"
   ]
  },
  {
   "cell_type": "markdown",
   "metadata": {},
   "source": [
    " - Cálculo do retorno acumulado"
   ]
  },
  {
   "cell_type": "code",
   "execution_count": 107,
   "metadata": {},
   "outputs": [],
   "source": [
    "#filtra apenas a coluna \"Retornos\" para a variável acumulado\n",
    "acumulado = retornos_portfolio(100, portfolio)[\"Retornos\"]"
   ]
  },
  {
   "cell_type": "code",
   "execution_count": 108,
   "metadata": {},
   "outputs": [
    {
     "data": {
      "text/plain": [
       "255.68616743251567"
      ]
     },
     "execution_count": 108,
     "metadata": {},
     "output_type": "execute_result"
    }
   ],
   "source": [
    "#calcula o retorno acumulado\n",
    "(((acumulado+1).prod()-1))*100"
   ]
  },
  {
   "cell_type": "markdown",
   "metadata": {},
   "source": [
    " - Cálculo do drawdown"
   ]
  },
  {
   "cell_type": "code",
   "execution_count": 142,
   "metadata": {},
   "outputs": [],
   "source": [
    "def analise(rt_series:pd.Series):\n",
    "    \"\"\"\n",
    "    Recebe uma Series contendo os retornos e devolve um DataFrame\n",
    "    com os montantes, os picos e os drawdown\n",
    "    :rt_serires:Series com os retornos\n",
    "    \"\"\"\n",
    "    mt = 1000*(1+rt_series).cumprod()\n",
    "    #mantem apenas os valores maximos do periodo\n",
    "    picos_anteriores = mt.cummax()\n",
    "    #calculo do drawdown\n",
    "    drawdown = (mt - picos_anteriores)/picos_anteriores\n",
    "    return pd.DataFrame({\n",
    "        \"Montante\":mt,\n",
    "        \"Picos\":picos_anteriores,\n",
    "        \"Drawdowns\":drawdown\n",
    "    })"
   ]
  },
  {
   "cell_type": "code",
   "execution_count": 143,
   "metadata": {},
   "outputs": [
    {
     "data": {
      "text/plain": [
       "<matplotlib.axes._subplots.AxesSubplot at 0x1cc43f3afa0>"
      ]
     },
     "execution_count": 143,
     "metadata": {},
     "output_type": "execute_result"
    },
    {
     "data": {
      "image/png": "[encoded data removed]",
      "text/plain": [
       "<Figure size 432x288 with 1 Axes>"
      ]
     },
     "metadata": {
      "needs_background": "light"
     },
     "output_type": "display_data"
    }
   ],
   "source": [
    "#plota o grafico da evolucao do montante junto com os picos\n",
    "analise(acumulado)[[\"Montante\",\"Picos\"]].plot()"
   ]
  },
  {
   "cell_type": "code",
   "execution_count": 152,
   "metadata": {},
   "outputs": [
    {
     "data": {
      "text/plain": [
       "<matplotlib.axes._subplots.AxesSubplot at 0x1cc4409de50>"
      ]
     },
     "execution_count": 152,
     "metadata": {},
     "output_type": "execute_result"
    },
    {
     "data": {
      "image/png": "[encoded data removed]",
      "text/plain": [
       "<Figure size 432x288 with 1 Axes>"
      ]
     },
     "metadata": {
      "needs_background": "light"
     },
     "output_type": "display_data"
    }
   ],
   "source": [
    "#plota um grafico com os drawdowns ao longo do periodo\n",
    "analise(acumulado)[\"Drawdowns\"].plot()"
   ]
  },
  {
   "cell_type": "markdown",
   "metadata": {},
   "source": [
    "- Manipulação dos dados do índice IBX para comparação"
   ]
  },
  {
   "cell_type": "code",
   "execution_count": 182,
   "metadata": {},
   "outputs": [],
   "source": [
    "#variavel com arquivo csv com os dados do ibx\n",
    "ibx_indice = pd.read_csv(\"ibx.csv\")"
   ]
  },
  {
   "cell_type": "code",
   "execution_count": 183,
   "metadata": {},
   "outputs": [],
   "source": [
    "#retira os NaN\n",
    "ibx_indice = ibx_indice.dropna()"
   ]
  },
  {
   "cell_type": "code",
   "execution_count": 184,
   "metadata": {},
   "outputs": [],
   "source": [
    "#coloca como index a coluna \"Date\"\n",
    "ibx_indice = ibx_indice.set_index(\"Date\")"
   ]
  },
  {
   "cell_type": "code",
   "execution_count": 185,
   "metadata": {},
   "outputs": [],
   "source": [
    "#formata as datas\n",
    "ibx_indice.index = pd.to_datetime(ibx_indice.index, format='%Y-%m-%d').to_period(\"M\")"
   ]
  },
  {
   "cell_type": "code",
   "execution_count": 187,
   "metadata": {},
   "outputs": [],
   "source": [
    "#usa a funcao pct para conseguir os retornos e filtra as datas a partir de 2010-11\n",
    "ibx_indice = ibx_indice['2010-11':].pct_change().iloc[1:]"
   ]
  },
  {
   "cell_type": "code",
   "execution_count": 188,
   "metadata": {},
   "outputs": [],
   "source": [
    "#Series com os retornos do DataFrame anterior\n",
    "retornos_ibx = ibx_indice[\"IBX\"]"
   ]
  },
  {
   "cell_type": "code",
   "execution_count": 189,
   "metadata": {},
   "outputs": [
    {
     "data": {
      "text/plain": [
       "<matplotlib.axes._subplots.AxesSubplot at 0x1cc455816d0>"
      ]
     },
     "execution_count": 189,
     "metadata": {},
     "output_type": "execute_result"
    },
    {
     "data": {
      "image/png": "[encoded data removed]",
      "text/plain": [
       "<Figure size 432x288 with 1 Axes>"
      ]
     },
     "metadata": {
      "needs_background": "light"
     },
     "output_type": "display_data"
    }
   ],
   "source": [
    "analise(retornos_ibx)[[\"Montante\",\"Picos\"]].plot()"
   ]
  },
  {
   "cell_type": "code",
   "execution_count": 138,
   "metadata": {},
   "outputs": [
    {
     "data": {
      "text/plain": [
       "IBX    115.953394\n",
       "dtype: float64"
      ]
     },
     "execution_count": 138,
     "metadata": {},
     "output_type": "execute_result"
    }
   ],
   "source": [
    "#calculo retornos acumulado\n",
    "((((ibx_indice+1).prod())-1))*100"
   ]
  },
  {
   "cell_type": "code",
   "execution_count": 164,
   "metadata": {},
   "outputs": [
    {
     "data": {
      "text/plain": [
       "<matplotlib.axes._subplots.AxesSubplot at 0x1cc4422e220>"
      ]
     },
     "execution_count": 164,
     "metadata": {},
     "output_type": "execute_result"
    },
    {
     "data": {
      "image/png": "[encoded data removed]",
      "text/plain": [
       "<Figure size 432x288 with 1 Axes>"
      ]
     },
     "metadata": {
      "needs_background": "light"
     },
     "output_type": "display_data"
    }
   ],
   "source": [
    "analise(retornos_ibx)[\"Drawdowns\"].plot()"
   ]
  }
 ],
 "metadata": {
  "kernelspec": {
   "display_name": "Python 3",
   "language": "python",
   "name": "python3"
  },
  "language_info": {
   "codemirror_mode": {
    "name": "ipython",
    "version": 3
   },
   "file_extension": ".py",
   "mimetype": "text/x-python",
   "name": "python",
   "nbconvert_exporter": "python",
   "pygments_lexer": "ipython3",
   "version": "3.8.3"
  }
 },
 "nbformat": 4,
 "nbformat_minor": 4
}
